{
 "cells": [
  {
   "cell_type": "markdown",
   "id": "729abe3d",
   "metadata": {},
   "source": [
    "### document loader"
   ]
  },
  {
   "cell_type": "code",
   "execution_count": 1,
   "id": "de057ff8",
   "metadata": {},
   "outputs": [],
   "source": [
    "from dotenv import load_dotenv\n",
    "load_dotenv()\n",
    "import os"
   ]
  },
  {
   "cell_type": "code",
   "execution_count": 2,
   "id": "4495693d",
   "metadata": {},
   "outputs": [
    {
     "name": "stdout",
     "output_type": "stream",
     "text": [
      "[Document(metadata={'source': 'sample.txt'}, page_content='LangChain is a powerful framework for building LLM applications.\\nIt provides modules for working with indexes, memory, and more.')]\n"
     ]
    }
   ],
   "source": [
    "from langchain_community.document_loaders import TextLoader\n",
    "\n",
    "# Create a sample text file\n",
    "with open(\"sample.txt\", \"w\") as f:\n",
    "    f.write(\"LangChain is a powerful framework for building LLM applications.\\n\")\n",
    "    f.write(\"It provides modules for working with indexes, memory, and more.\")\n",
    "\n",
    "# Load the document\n",
    "loader = TextLoader(\"sample.txt\")\n",
    "documents = loader.load()\n",
    "print(documents)"
   ]
  },
  {
   "cell_type": "markdown",
   "id": "f62f271a",
   "metadata": {},
   "source": [
    "### text splitter"
   ]
  },
  {
   "cell_type": "code",
   "execution_count": 8,
   "id": "8e7cccf4",
   "metadata": {},
   "outputs": [
    {
     "name": "stdout",
     "output_type": "stream",
     "text": [
      "1\n"
     ]
    }
   ],
   "source": [
    "from langchain.text_splitter import CharacterTextSplitter\n",
    "\n",
    "text_splitter = CharacterTextSplitter(chunk_size=3, chunk_overlap=1)\n",
    "texts = text_splitter.split_documents(documents)\n",
    "print(len(texts))"
   ]
  },
  {
   "cell_type": "markdown",
   "id": "71b16d7a",
   "metadata": {},
   "source": [
    "### Vector Stores and Retrievers"
   ]
  },
  {
   "cell_type": "code",
   "execution_count": 9,
   "id": "65ff3324",
   "metadata": {},
   "outputs": [],
   "source": [
    "from langchain_community.vectorstores import FAISS\n",
    "from langchain_openai import OpenAIEmbeddings\n",
    "\n",
    "embeddings = OpenAIEmbeddings()\n",
    "vectorstore = FAISS.from_documents(texts, embeddings)\n",
    "retriever = vectorstore.as_retriever()"
   ]
  },
  {
   "cell_type": "code",
   "execution_count": 10,
   "id": "43c638c6",
   "metadata": {},
   "outputs": [
    {
     "name": "stdout",
     "output_type": "stream",
     "text": [
      "[Document(id='40c4a973-7ba2-4944-b428-e56fc78a9876', metadata={'source': 'sample.txt'}, page_content='LangChain is a powerful framework for building LLM applications.\\nIt provides modules for working with indexes, memory, and more.')]\n"
     ]
    }
   ],
   "source": [
    "query = \"What is LangChain?\"\n",
    "retrieved_docs = retriever.invoke(query)\n",
    "print(retrieved_docs)"
   ]
  }
 ],
 "metadata": {
  "kernelspec": {
   "display_name": ".venv",
   "language": "python",
   "name": "python3"
  },
  "language_info": {
   "codemirror_mode": {
    "name": "ipython",
    "version": 3
   },
   "file_extension": ".py",
   "mimetype": "text/x-python",
   "name": "python",
   "nbconvert_exporter": "python",
   "pygments_lexer": "ipython3",
   "version": "3.11.0"
  }
 },
 "nbformat": 4,
 "nbformat_minor": 5
}
